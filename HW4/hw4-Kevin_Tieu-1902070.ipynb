{
 "cells": [
  {
   "cell_type": "markdown",
   "metadata": {},
   "source": [
    "# HW4, CHEE 6397 (Data-Driven Materials Modeling)\n",
    "\n",
    "#### **Topics**: Deep Learning\n",
    "\n",
    "#### **Due**: December 7, 2023\n"
   ]
  },
  {
   "cell_type": "markdown",
   "metadata": {},
   "source": [
    "## Instructions\n",
    "\n",
    "- The file you submit should be named as `hw4-<FirstName>_<LastName>-<UHID>.ipynb`, e.g. `hw4-Mingjian_Wen-00001111.ipynb`.\n",
    "- Input your answer to each question in the `Answer` cell. Feel free add to more cells as needed.\n",
    "\n",
    "### Markdown and Math\n",
    "\n",
    "- You can use `markdown` cell to type the text part of your answers to a question. And math equations can be typed using LaTex.\n",
    "- See https://gtribello.github.io/mathNET/assets/notebook-writing.html for a quick intro to markdown in Jupyter and how to write math equations.\n",
    "- See https://ia.wikipedia.org/wiki/Wikipedia:LaTeX_symbols for a list of LaTex symbols.\n",
    "- If you are more used to MS Word equation typesetting, you can find a graphical LaTex equations generator at: https://latexeditor.lagrida.com\n",
    "\n",
    "### Code\n",
    "\n",
    "- Your Python code to a question can be written using the `code` cell.\n",
    "- Make sure all used packages are imported properly. For example, before submission, do `Kernel->Restart and Run All Cells...` from the menu bar to double check. If we cannot run your notebook, we won't be able to grade it.\n"
   ]
  },
  {
   "cell_type": "markdown",
   "metadata": {},
   "source": [
    "## Scores\n",
    "\n",
    "- a [5 points]: \n",
    "- b [10 points]:\n",
    "- c [5 points]:\n",
    "- d [10 points]:\n",
    "- e [15 points]:\n",
    "- f [10 points]:\n",
    "- g [20 points]:\n",
    "- h [10 points]:\n",
    "- i [10 points]: \n",
    "- j [5 points]:  \n",
    "\n",
    "Total: \n"
   ]
  },
  {
   "cell_type": "markdown",
   "metadata": {},
   "source": [
    "---\n",
    "---\n"
   ]
  },
  {
   "cell_type": "markdown",
   "metadata": {},
   "source": [
    "## Problem\n",
    "\n",
    "In this problem, we will train an MLP for the classification of the reaction reaction family data used in HW3.  "
   ]
  },
  {
   "cell_type": "markdown",
   "metadata": {},
   "source": [
    "### (a)\n",
    "\n",
    "Load your dataset features as `X` and labels (reaction family) as `y`. Convert them into PyTorch `tensors`.\n",
    "What are the **data type** of `X` and `y`?\n",
    "\n",
    "Note, DON'T use the data file from HW3. (I've changed the label be to 0-based in HW 4 from 1-based in HW3.)"
   ]
  },
  {
   "cell_type": "markdown",
   "metadata": {},
   "source": [
    "### Answer\n"
   ]
  },
  {
   "cell_type": "code",
   "execution_count": 77,
   "metadata": {},
   "outputs": [],
   "source": [
    "import torch\n",
    "import numpy as np"
   ]
  },
  {
   "cell_type": "code",
   "execution_count": 78,
   "metadata": {},
   "outputs": [
    {
     "data": {
      "text/plain": [
       "torch.Tensor"
      ]
     },
     "execution_count": 78,
     "metadata": {},
     "output_type": "execute_result"
    }
   ],
   "source": [
    "X = np.load(\"reaction_features_finetuned-hw4.npy\")\n",
    "y = np.load(\"reaction_super_family_finetuned-hw4.npy\")\n",
    "X = torch.tensor(X)\n",
    "y = torch.tensor(y)\n",
    "type(y)"
   ]
  },
  {
   "cell_type": "markdown",
   "metadata": {},
   "source": [
    "X and y are both tensor data types"
   ]
  },
  {
   "cell_type": "markdown",
   "metadata": {},
   "source": [
    "### (b)\n",
    "\n",
    "- Plot a histogram of the number of samples in each reaction family.\n",
    "- How many different reaction families are there in the dataset?"
   ]
  },
  {
   "cell_type": "markdown",
   "metadata": {},
   "source": [
    "### Answer "
   ]
  },
  {
   "cell_type": "code",
   "execution_count": 79,
   "metadata": {},
   "outputs": [
    {
     "name": "stdout",
     "output_type": "stream",
     "text": [
      "tensor([0, 1, 2, 3, 4, 5, 6, 7])\n",
      "tensor([1368,  785,  493,  781,  296,   99,  184,  486])\n"
     ]
    }
   ],
   "source": [
    "print(torch.unique(y))\n",
    "print(torch.bincount(y))"
   ]
  },
  {
   "cell_type": "code",
   "execution_count": 90,
   "metadata": {},
   "outputs": [
    {
     "data": {
      "text/plain": [
       "Text(0, 0.5, 'number of samples')"
      ]
     },
     "execution_count": 90,
     "metadata": {},
     "output_type": "execute_result"
    },
    {
     "data": {
      "image/png": "[encoded data removed]",
      "text/plain": [
       "<Figure size 640x480 with 1 Axes>"
      ]
     },
     "metadata": {},
     "output_type": "display_data"
    }
   ],
   "source": [
    "import matplotlib.pyplot as plt\n",
    "fig, ax = plt.subplots()\n",
    "ax.hist(y, bins=[0,1,2,3,4,5,6,7,8], align='left')\n",
    "ax.set_xlabel(\"reaction family\")\n",
    "ax.set_ylabel(\"number of samples\")"
   ]
  },
  {
   "cell_type": "markdown",
   "metadata": {},
   "source": [
    "There are 8 different reaction families in the dataset, ranging from 0 to 7."
   ]
  },
  {
   "cell_type": "markdown",
   "metadata": {},
   "source": [
    "### (C)\n",
    "\n",
    "Split the dataset into training/validation/test sets with a ratio of 0.8/0.1/0.1. After the split, you should have `X_train`, `y_train`, `X_val`, `y_val`, `X_test`, and `y_test`.\n",
    "Hint: \n",
    "- again, you can use `sklearn.model_selection.train_test_split`.\n",
    "- you might want to set the random seed to a fixed value for reproducibility.\n"
   ]
  },
  {
   "cell_type": "markdown",
   "metadata": {},
   "source": [
    "### Answer "
   ]
  },
  {
   "cell_type": "code",
   "execution_count": 81,
   "metadata": {},
   "outputs": [
    {
     "name": "stdout",
     "output_type": "stream",
     "text": [
      "Training set:\n",
      "\tfeatures: torch.Size([3593, 128]) \n",
      "\ttarget: torch.Size([3593])\n",
      "Validation set:\n",
      "\tfeatures: torch.Size([449, 128]) \n",
      "\ttarget: torch.Size([449])\n",
      "Test set:\n",
      "\tfeatures: torch.Size([450, 128]) \n",
      "\ttarget: torch.Size([450])\n"
     ]
    }
   ],
   "source": [
    "from sklearn.model_selection import train_test_split\n",
    "X_train, X_remain, y_train, y_remain = train_test_split(X,y,train_size = 0.8, random_state = 20)\n",
    "X_val, X_test, y_val, y_test = train_test_split(X_remain, y_remain, test_size = 0.5, random_state = 20) \n",
    "print(\"Training set:\\n\\tfeatures: {} \\n\\ttarget: {}\".format(X_train.shape,y_train.shape))\n",
    "print(\"Validation set:\\n\\tfeatures: {} \\n\\ttarget: {}\".format(X_val.shape,y_val.shape))\n",
    "print(\"Test set:\\n\\tfeatures: {} \\n\\ttarget: {}\".format(X_test.shape,y_test.shape))\n"
   ]
  },
  {
   "cell_type": "markdown",
   "metadata": {},
   "source": [
    "### (d)\n",
    "\n",
    "Create three [DataLoader](https://pytorch.org/docs/stable/data.html#torch.utils.data.DataLoader) using the below provided `ReactionDataset` class:\n",
    "- `train_loader` for the training set, \n",
    "- `val_loader` for the validation set, and\n",
    "- `test_loader` for the test set.\n",
    "\n",
    "\n",
    "In `lab5-intro_pytorch.ipynb`, we directly iterated over the data without using a dataloader when training the toy model. \n",
    "But using a dataloader is more convenient and flexible, giving you more control over the data loading process.\n",
    "For a brief tutorial on using dataloader, see https://pytorch.org/tutorials/beginner/basics/data_tutorial.html"
   ]
  },
  {
   "cell_type": "code",
   "execution_count": 82,
   "metadata": {},
   "outputs": [],
   "source": [
    "from torch.utils.data import Dataset\n",
    "\n",
    "class ReactionDataset(Dataset):\n",
    "    \"\"\"Reaction dataset.\n",
    "\n",
    "    Args:\n",
    "        X: The features.\n",
    "        y: The labels.\n",
    "    \"\"\"\n",
    "    def __init__(self, X, y):\n",
    "\n",
    "        self.X = X\n",
    "        self.y = y\n",
    "\n",
    "    def __len__(self):\n",
    "        return len(self.X)\n",
    "\n",
    "    def __getitem__(self, idx):\n",
    "        return self.X[idx], self.y[idx]\n"
   ]
  },
  {
   "cell_type": "markdown",
   "metadata": {},
   "source": [
    "### Answer\n"
   ]
  },
  {
   "cell_type": "code",
   "execution_count": 91,
   "metadata": {},
   "outputs": [],
   "source": [
    "from torch.utils.data import DataLoader\n",
    "train_data = ReactionDataset(X_train, y_train)\n",
    "test_data = ReactionDataset(X_test, y_test)\n",
    "val_data = ReactionDataset(X_val, y_val)\n",
    "train_loader = DataLoader(train_data)\n",
    "val_loader = DataLoader(val_data)\n",
    "test_loader = DataLoader(test_data)"
   ]
  },
  {
   "cell_type": "markdown",
   "metadata": {},
   "source": [
    "### (e)\n",
    "\n",
    "Build an MLP model `MyMLP` with **two hidden layers** for the classification task. Hint: \n",
    "- refer to `lab5-intro_pytorch.ipynb` for a simple MLP model; note there is only one hidden layer in that example.\n",
    "\n",
    "The number of input nodes and output nodes of your MLP model should be fixed. What are they, and why? "
   ]
  },
  {
   "cell_type": "markdown",
   "metadata": {},
   "source": [
    "### Answer\n",
    "The number of input nodes represent the dimensionality of the inputs (features). Since the number/dimension of features for a model is fixed, the number of input nodes should be fixed as well. In this model, the number of input nodes is the number of features in the dataset.\n",
    "\n",
    "The number of output nodes is the number of output classes. Since the number of classes/labels for a model is fixed, the number of output nodes should be fixed as well.\n"
   ]
  },
  {
   "cell_type": "code",
   "execution_count": 118,
   "metadata": {},
   "outputs": [],
   "source": [
    "import torch.nn as nn\n",
    "\n",
    "class MyTwoLayerMLP(nn.Module):\n",
    "\n",
    "    def __init__(self, num_input_nodes, num_hidden1_nodes, num_hidden2_nodes, num_out_nodes):\n",
    "        # call the parent class's __init__ method to initialize inherited attribute\n",
    "        super().__init__()\n",
    "\n",
    "        self.num_input_nodes = num_input_nodes\n",
    "        self.num_hidden1_nodes = num_hidden1_nodes\n",
    "        self.num_hidden2_nodes = num_hidden2_nodes\n",
    "        \n",
    "        self.num_out_nodes = num_out_nodes\n",
    "\n",
    "        # input parameter: number of input nodes and output nodes (hidden nodes are output nodes in intermediate layers)\n",
    "        self.layer1 = nn.Linear(num_input_nodes, num_hidden1_nodes)\n",
    "        self.layer2 = nn.Linear(num_hidden1_nodes, num_hidden2_nodes)\n",
    "        self.output_layer = nn.Linear(num_hidden2_nodes, num_out_nodes)\n",
    "\n",
    "    def forward(self, X):\n",
    "        h = torch.relu(self.layer1(X))\n",
    "        h = torch.relu(self.layer2(h))\n",
    "        output = torch.softmax(self.output_layer(h), dim = 1)\n",
    "        # output = self.output_layer(hc)\n",
    "        return output"
   ]
  },
  {
   "cell_type": "markdown",
   "metadata": {},
   "source": [
    "### (f)\n",
    "\n",
    "1. In part (e), what is the activation function you used for the hidden layers? Why you chose it over other options?\n",
    "\n",
    "2. Do you add an activation function to the output layer? Why or why not?"
   ]
  },
  {
   "cell_type": "markdown",
   "metadata": {},
   "source": [
    "### Answer"
   ]
  },
  {
   "cell_type": "markdown",
   "metadata": {},
   "source": [
    "1. The activation function for the hidden layers are Rectified Linear Unit (ReLU). The ReLU is computationally efficient and widely used in practice. It also produce sparse activations and mitigate vanishing/exploding gradient problems.\n",
    "\n",
    "2. The activation function to the output layer is softmax, which is commonly used for multi-class classification tasks. The function converts the output scores into a probability distribution over multiple labels, which are useful for multi-class problems."
   ]
  },
  {
   "cell_type": "markdown",
   "metadata": {},
   "source": [
    "### (g)\n",
    "\n",
    "\n",
    "Train your MLP model using the training set. Feel free to use the below provided `train_multi_epoch` function.\n",
    "\n",
    "- For classification, we use the cross entropy as the loss. In pytorch there are two cross entropy class: [BCELossWithLogits](https://pytorch.org/docs/stable/generated/torch.nn.BCEWithLogitsLoss.html) and [CrossEntropyLoss](https://pytorch.org/docs/stable/generated/torch.nn.CrossEntropyLoss.html). Which one should we use for this problem? Why?\n",
    "- Use the `Adam` optimizer.\n",
    "- You can use `torch.manual_seed()` function to set the random seed for reproducibility (before initializing your model). Sometimes, the model performance can be sensitive to the random seed. If you find your model performance is not stable, you can try different random seeds to see if it helps.\n",
    "- Use the below hyperparameters:\n",
    "  - for both hidden layers, using 10 nodes\n",
    "  - learning rate: 0.001 (in optimizer)\n",
    "  - batch size: 32 (in dataloader)\n",
    "  - number of epochs (1 epoch means iterating over all data points in the training set once): 200 "
   ]
  },
  {
   "cell_type": "code",
   "execution_count": 100,
   "metadata": {},
   "outputs": [],
   "source": [
    "def train_one_step(model, optimizer, loss_fn, X, y):\n",
    "    \"\"\"Train for a single step.\n",
    "\n",
    "    Args:\n",
    "        model: the model to train\n",
    "        optimizer: the optimizer to use\n",
    "        loss_fn: the loss function to use\n",
    "        X: the input data\n",
    "        y: the target data\n",
    "    \"\"\"\n",
    "    y_pred = model(X)\n",
    "    loss = loss_fn(y_pred, y)\n",
    "\n",
    "    optimizer.zero_grad()\n",
    "    loss.backward()\n",
    "    optimizer.step()\n",
    "\n",
    "def train_multiple_epochs(model,  optimizer, loss_fn, train_loader, X_train, y_train, X_val, y_val, num_epochs):\n",
    "    \"\"\"\n",
    "    Train the model for multiple epochs.\n",
    "\n",
    "    Args:\n",
    "        model: the model to train\n",
    "        optimizer: the optimizer to use\n",
    "        loss_fn: the loss function to use\n",
    "        train_loader: the training data loader\n",
    "        X_train: the entire training data\n",
    "        y_train: the entire training labels\n",
    "        X_val: the entire validation data\n",
    "        y_val: the entire validation labels\n",
    "        num_epochs: the total number of epochs to train for\n",
    "\n",
    "    Returns:\n",
    "        train_losses: the training losses for each epoch\n",
    "        val_losses: the validation losses for each epoch\n",
    "    \"\"\"\n",
    "    train_losses = []\n",
    "    val_losses = []\n",
    "\n",
    "    for epoch in range(num_epochs):\n",
    "        for X_i, y_i in train_loader:\n",
    "            train_one_step(model, optimizer, loss_fn, X_i, y_i)\n",
    "\n",
    "        train_loss = loss_fn(model(X_train), y_train).item()\n",
    "        val_loss = loss_fn(model(X_val), y_val).item()\n",
    "\n",
    "        train_losses.append(train_loss)\n",
    "        val_losses.append(val_loss)\n",
    "\n",
    "    return train_losses, val_losses"
   ]
  },
  {
   "cell_type": "markdown",
   "metadata": {},
   "source": [
    "### Answer "
   ]
  },
  {
   "cell_type": "markdown",
   "metadata": {},
   "source": [
    "* CrossEntropyLoss is more suitable to this dataset because the dataset is multi-class and the MLP model uses softmax activation function. The BCEWithLogitsLoss is more suitable with binary classification problems."
   ]
  },
  {
   "cell_type": "code",
   "execution_count": 121,
   "metadata": {},
   "outputs": [
    {
     "name": "stdout",
     "output_type": "stream",
     "text": [
      "Unexpected exception formatting exception. Falling back to standard exception\n"
     ]
    },
    {
     "name": "stderr",
     "output_type": "stream",
     "text": [
      "Traceback (most recent call last):\n",
      "  File \"C:\\Users\\phatt\\AppData\\Roaming\\Python\\Python311\\site-packages\\IPython\\core\\interactiveshell.py\", line 3508, in run_code\n",
      "    exec(code_obj, self.user_global_ns, self.user_ns)\n",
      "  File \"C:\\Users\\phatt\\AppData\\Local\\Temp\\ipykernel_24484\\1111362423.py\", line 14, in <module>\n",
      "    train_loss, val_Loss = train_multiple_epochs(my_model, optimizer, loss_func, train_loader, X_train, y_train, X_val, y_val, 200)\n",
      "                           ^^^^^^^^^^^^^^^^^^^^^^^^^^^^^^^^^^^^^^^^^^^^^^^^^^^^^^^^^^^^^^^^^^^^^^^^^^^^^^^^^^^^^^^^^^^^^^^^^^^^^^^^\n",
      "  File \"C:\\Users\\phatt\\AppData\\Local\\Temp\\ipykernel_24484\\1540312825.py\", line 42, in train_multiple_epochs\n",
      "    train_one_step(model, optimizer, loss_fn, X_i, y_i)\n",
      "  File \"C:\\Users\\phatt\\AppData\\Local\\Temp\\ipykernel_24484\\1540312825.py\", line 16, in train_one_step\n",
      "    optimizer.step()\n",
      "  File \"c:\\Users\\phatt\\AppData\\Local\\Programs\\Python\\Python311\\Lib\\site-packages\\torch\\optim\\optimizer.py\", line 373, in wrapper\n",
      "    out = func(*args, **kwargs)\n",
      "          ^^^^^^^^^^^^^^^^^^^^^\n",
      "  File \"c:\\Users\\phatt\\AppData\\Local\\Programs\\Python\\Python311\\Lib\\site-packages\\torch\\optim\\optimizer.py\", line 76, in _use_grad\n",
      "    ret = func(self, *args, **kwargs)\n",
      "          ^^^^^^^^^^^^^^^^^^^^^^^^^^^\n",
      "  File \"c:\\Users\\phatt\\AppData\\Local\\Programs\\Python\\Python311\\Lib\\site-packages\\torch\\optim\\adam.py\", line 163, in step\n",
      "    adam(\n",
      "  File \"c:\\Users\\phatt\\AppData\\Local\\Programs\\Python\\Python311\\Lib\\site-packages\\torch\\optim\\adam.py\", line 311, in adam\n",
      "    func(params,\n",
      "  File \"c:\\Users\\phatt\\AppData\\Local\\Programs\\Python\\Python311\\Lib\\site-packages\\torch\\optim\\adam.py\", line 375, in _single_tensor_adam\n",
      "    if torch.is_complex(param):\n",
      "       ^^^^^^^^^^^^^^^^^^^^^^^\n",
      "KeyboardInterrupt\n",
      "\n",
      "During handling of the above exception, another exception occurred:\n",
      "\n",
      "Traceback (most recent call last):\n",
      "  File \"C:\\Users\\phatt\\AppData\\Roaming\\Python\\Python311\\site-packages\\IPython\\core\\interactiveshell.py\", line 2105, in showtraceback\n",
      "    stb = self.InteractiveTB.structured_traceback(\n",
      "          ^^^^^^^^^^^^^^^^^^^^^^^^^^^^^^^^^^^^^^^^\n",
      "  File \"C:\\Users\\phatt\\AppData\\Roaming\\Python\\Python311\\site-packages\\IPython\\core\\ultratb.py\", line 1428, in structured_traceback\n",
      "    return FormattedTB.structured_traceback(\n",
      "           ^^^^^^^^^^^^^^^^^^^^^^^^^^^^^^^^^\n",
      "  File \"C:\\Users\\phatt\\AppData\\Roaming\\Python\\Python311\\site-packages\\IPython\\core\\ultratb.py\", line 1319, in structured_traceback\n",
      "    return VerboseTB.structured_traceback(\n",
      "           ^^^^^^^^^^^^^^^^^^^^^^^^^^^^^^^\n",
      "  File \"C:\\Users\\phatt\\AppData\\Roaming\\Python\\Python311\\site-packages\\IPython\\core\\ultratb.py\", line 1172, in structured_traceback\n",
      "    formatted_exception = self.format_exception_as_a_whole(etype, evalue, etb, number_of_lines_of_context,\n",
      "                          ^^^^^^^^^^^^^^^^^^^^^^^^^^^^^^^^^^^^^^^^^^^^^^^^^^^^^^^^^^^^^^^^^^^^^^^^^^^^^^^^\n",
      "  File \"C:\\Users\\phatt\\AppData\\Roaming\\Python\\Python311\\site-packages\\IPython\\core\\ultratb.py\", line 1087, in format_exception_as_a_whole\n",
      "    frames.append(self.format_record(record))\n",
      "                  ^^^^^^^^^^^^^^^^^^^^^^^^^^\n",
      "  File \"C:\\Users\\phatt\\AppData\\Roaming\\Python\\Python311\\site-packages\\IPython\\core\\ultratb.py\", line 969, in format_record\n",
      "    frame_info.lines, Colors, self.has_colors, lvals\n",
      "    ^^^^^^^^^^^^^^^^\n",
      "  File \"C:\\Users\\phatt\\AppData\\Roaming\\Python\\Python311\\site-packages\\IPython\\core\\ultratb.py\", line 792, in lines\n",
      "    return self._sd.lines\n",
      "           ^^^^^^^^^^^^^^\n",
      "  File \"C:\\Users\\phatt\\AppData\\Roaming\\Python\\Python311\\site-packages\\stack_data\\utils.py\", line 144, in cached_property_wrapper\n",
      "    value = obj.__dict__[self.func.__name__] = self.func(obj)\n",
      "                                               ^^^^^^^^^^^^^^\n",
      "  File \"C:\\Users\\phatt\\AppData\\Roaming\\Python\\Python311\\site-packages\\stack_data\\core.py\", line 734, in lines\n",
      "    pieces = self.included_pieces\n",
      "             ^^^^^^^^^^^^^^^^^^^^\n",
      "  File \"C:\\Users\\phatt\\AppData\\Roaming\\Python\\Python311\\site-packages\\stack_data\\utils.py\", line 144, in cached_property_wrapper\n",
      "    value = obj.__dict__[self.func.__name__] = self.func(obj)\n",
      "                                               ^^^^^^^^^^^^^^\n",
      "  File \"C:\\Users\\phatt\\AppData\\Roaming\\Python\\Python311\\site-packages\\stack_data\\core.py\", line 677, in included_pieces\n",
      "    scope_pieces = self.scope_pieces\n",
      "                   ^^^^^^^^^^^^^^^^^\n",
      "  File \"C:\\Users\\phatt\\AppData\\Roaming\\Python\\Python311\\site-packages\\stack_data\\utils.py\", line 144, in cached_property_wrapper\n",
      "    value = obj.__dict__[self.func.__name__] = self.func(obj)\n",
      "                                               ^^^^^^^^^^^^^^\n",
      "  File \"C:\\Users\\phatt\\AppData\\Roaming\\Python\\Python311\\site-packages\\stack_data\\core.py\", line 614, in scope_pieces\n",
      "    scope_start, scope_end = self.source.line_range(self.scope)\n",
      "                             ^^^^^^^^^^^^^^^^^^^^^^^^^^^^^^^^^^\n",
      "  File \"C:\\Users\\phatt\\AppData\\Roaming\\Python\\Python311\\site-packages\\stack_data\\core.py\", line 178, in line_range\n",
      "    return line_range(self.asttext(), node)\n",
      "                      ^^^^^^^^^^^^^^\n",
      "  File \"C:\\Users\\phatt\\AppData\\Roaming\\Python\\Python311\\site-packages\\executing\\executing.py\", line 428, in asttext\n",
      "    self._asttext = ASTText(self.text, tree=self.tree, filename=self.filename)\n",
      "                    ^^^^^^^^^^^^^^^^^^^^^^^^^^^^^^^^^^^^^^^^^^^^^^^^^^^^^^^^^^\n",
      "  File \"C:\\Users\\phatt\\AppData\\Roaming\\Python\\Python311\\site-packages\\asttokens\\asttokens.py\", line 307, in __init__\n",
      "    super(ASTText, self).__init__(source_text, filename)\n",
      "  File \"C:\\Users\\phatt\\AppData\\Roaming\\Python\\Python311\\site-packages\\asttokens\\asttokens.py\", line 44, in __init__\n",
      "    source_text = six.ensure_text(source_text)\n",
      "                  ^^^^^^^^^^^^^^^\n",
      "AttributeError: module 'six' has no attribute 'ensure_text'\n"
     ]
    }
   ],
   "source": [
    "import torch.optim as optim\n",
    "\n",
    "input_node = 128\n",
    "output_node = 8\n",
    "hidden1 = 10\n",
    "hidden2 = 10\n",
    "l_rate = 0.001\n",
    "batch_size = 32\n",
    "epoch_num = 200\n",
    "\n",
    "my_model = MyTwoLayerMLP(input_node, hidden1, hidden2, output_node)\n",
    "loss_func = nn.CrossEntropyLoss()\n",
    "optimizer = optim.Adam(my_model.parameters(), lr = l_rate)\n",
    "train_loss, val_Loss = train_multiple_epochs(my_model, optimizer, loss_func, train_loader, X_train, y_train, X_val, y_val, 200)\n",
    "torch.manual_seed(13)"
   ]
  },
  {
   "cell_type": "markdown",
   "metadata": {},
   "source": [
    "### (h)\n",
    "\n",
    "Plot the training loss and validation loss as a function of the epoch number. \n",
    "\n",
    "Based on the plot, what is the best epoch number to stop the training? Why?"
   ]
  },
  {
   "cell_type": "code",
   "execution_count": 120,
   "metadata": {},
   "outputs": [
    {
     "data": {
      "text/plain": [
       "Text(0, 0.5, 'loss')"
      ]
     },
     "execution_count": 120,
     "metadata": {},
     "output_type": "execute_result"
    },
    {
     "data": {
      "image/png": "[encoded data removed]",
      "text/plain": [
       "<Figure size 640x480 with 1 Axes>"
      ]
     },
     "metadata": {},
     "output_type": "display_data"
    }
   ],
   "source": [
    "fig, ax = plt.subplots()\n",
    "ax.scatter(list(range(epoch_num)), train_loss, s = 5, c = 'green', label = 'training')\n",
    "ax.scatter(list(range(epoch_num)), val_Loss, s = 5, c = 'red', label = 'validation')\n",
    "ax.legend()\n",
    "ax.set_xlabel(\"epoch number\")\n",
    "ax.set_ylabel(\"loss\")"
   ]
  },
  {
   "cell_type": "markdown",
   "metadata": {},
   "source": [
    "### Answer "
   ]
  },
  {
   "cell_type": "markdown",
   "metadata": {},
   "source": [
    "### (i)\n",
    "\n",
    "Above in part (g), we used a set of hyperparameters to train the model. Now, we will try to find a better set of hyperparameters.\n",
    "\n",
    "- Tune the hyperparameters mentioned in part (g) to improve the model performance. You can try different values for each hyperparameter. Recall the best hyperparameters you found would be the ones that give the best performance on the validation set.  \n",
    "\n",
    "Can you find a set of hyperparameters that give a better performance than the one in part (g)? If yes, what are they? If not, why?"
   ]
  },
  {
   "cell_type": "code",
   "execution_count": 117,
   "metadata": {},
   "outputs": [
    {
     "data": {
      "text/plain": [
       "Text(0, 0.5, 'loss')"
      ]
     },
     "execution_count": 117,
     "metadata": {},
     "output_type": "execute_result"
    },
    {
     "data": {
      "image/png": "[encoded data removed]",
      "text/plain": [
       "<Figure size 640x480 with 1 Axes>"
      ]
     },
     "metadata": {},
     "output_type": "display_data"
    }
   ],
   "source": [
    "l_rate = 0.001\n",
    "batch_size = 128\n",
    "epoch_num = 40\n",
    "\n",
    "my_model = MyTwoLayerMLP(input_node, hidden1, hidden2, output_node)\n",
    "loss_func = nn.CrossEntropyLoss()\n",
    "optimizer = optim.Adam(my_model.parameters(), lr = l_rate)\n",
    "train_loss, val_loss = train_multiple_epochs(my_model, optimizer, loss_func, train_loader, X_train, y_train, X_val, y_val, epoch_num)\n",
    "\n",
    "fig, ax = plt.subplots()\n",
    "ax.scatter(list(range(epoch_num)), train_loss, s = 5, c = 'green', label = 'training')\n",
    "ax.scatter(list(range(epoch_num)), val_loss, s = 5, c = 'red', label = 'validation')\n",
    "ax.legend()\n",
    "ax.set_xlabel(\"epoch number\")\n",
    "ax.set_ylabel(\"loss\")"
   ]
  },
  {
   "cell_type": "markdown",
   "metadata": {},
   "source": [
    "### Answer"
   ]
  },
  {
   "cell_type": "markdown",
   "metadata": {},
   "source": [
    "### (j)\n",
    "\n",
    "For the best model you found in part (i), evaluate its performance on the test set. If you cannot find a better model in part (i), use the model in part (g)."
   ]
  },
  {
   "cell_type": "markdown",
   "metadata": {},
   "source": [
    "### Answer"
   ]
  },
  {
   "cell_type": "markdown",
   "metadata": {},
   "source": []
  }
 ],
 "metadata": {
  "kernelspec": {
   "display_name": "jupyter_book",
   "language": "python",
   "name": "python3"
  },
  "language_info": {
   "codemirror_mode": {
    "name": "ipython",
    "version": 3
   },
   "file_extension": ".py",
   "mimetype": "text/x-python",
   "name": "python",
   "nbconvert_exporter": "python",
   "pygments_lexer": "ipython3",
   "version": "3.11.5"
  },
  "orig_nbformat": 4
 },
 "nbformat": 4,
 "nbformat_minor": 2
}
