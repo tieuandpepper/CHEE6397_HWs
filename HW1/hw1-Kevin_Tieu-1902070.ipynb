{
 "cells": [
  {
   "cell_type": "markdown",
   "metadata": {},
   "source": [
    "# HW1, CHEE 6397 (Data-Driven Materials Modeling)\n",
    "\n",
    "#### **Topics**: Linear models for regression & classification\n",
    "\n",
    "#### **Due**: September 26, 2023\n"
   ]
  },
  {
   "cell_type": "markdown",
   "metadata": {},
   "source": [
    "## Instructions\n",
    "\n",
    "- Submit on Canvas. The file you submit should be named as `hw1-<FirstName>_<LastName>-<UHID>.ipynb`, e.g. `hw1-Mingjian_Wen-00001111.ipynb`.\n",
    "- Input your answer to each question in/below the `Answer` cell. Feel free add to more cells as needed.\n",
    "\n",
    "### Markdown and Math\n",
    "\n",
    "- You can use `markdown` cell to type the text part of your answers to a question. And math equations can be typed using LaTex.\n",
    "- See https://gtribello.github.io/mathNET/assets/notebook-writing.html for a quick intro to markdown in Jupyter and how to write math equations.\n",
    "- See https://ia.wikipedia.org/wiki/Wikipedia:LaTeX_symbols for a list of LaTex symbols.\n",
    "- If you are more used to MS Word equation typesetting, you can find a graphical LaTex equations generator at: https://latexeditor.lagrida.com\n",
    "\n",
    "### Code\n",
    "\n",
    "- Your Python code to a question can be written using the `code` cell.\n",
    "- Make sure all used packages are imported properly. For example, before submission, do `Kernel->Restart and Run All Cells...` from the menu bar to double check. If we cannot run your notebook, we won't be able to grade it.\n"
   ]
  },
  {
   "cell_type": "markdown",
   "metadata": {},
   "source": [
    "## Scores\n",
    "\n",
    "Problem 1\n",
    "\n",
    "- a [10 points]:\n",
    "- b [10 points]:\n",
    "\n",
    "Problem 2\n",
    "\n",
    "- a [5 points]:\n",
    "- b [10 points]:\n",
    "- c [5 points]:\n",
    "\n",
    "Problem 3\n",
    "\n",
    "- a [5 points]:\n",
    "- b [15 points]:\n",
    "- c [10 points]:\n",
    "\n",
    "Problem 4\n",
    "\n",
    "- a [5 points]:\n",
    "- b [15 points]:\n",
    "- c [10 points]:\n",
    "\n",
    "Total: \n"
   ]
  },
  {
   "cell_type": "markdown",
   "metadata": {},
   "source": [
    "---\n",
    "---\n"
   ]
  },
  {
   "cell_type": "markdown",
   "metadata": {},
   "source": [
    "## Problem 1\n"
   ]
  },
  {
   "cell_type": "markdown",
   "metadata": {},
   "source": [
    "### (a)\n",
    "\n",
    "For `ridge regression` with a loss function $$L = \\| \\boldsymbol X \\boldsymbol w - \\boldsymbol t \\|^2 + \\lambda \\boldsymbol w^T\\boldsymbol w ,$$\n",
    "show that the solution to the least squares minimization problem is $$\\boldsymbol {\\hat w} = (\\lambda\\boldsymbol I + \\boldsymbol X^T \\boldsymbol X)^{-1} X^{T} \\boldsymbol t,$$ where $\\lambda$ is the regularization constant, and $\\boldsymbol I$ is the identity.\n"
   ]
  },
  {
   "cell_type": "markdown",
   "metadata": {},
   "source": [
    "### Answer"
   ]
  },
  {
   "cell_type": "markdown",
   "metadata": {},
   "source": [
    "$$ L = \\| \\boldsymbol X \\boldsymbol w - \\boldsymbol t \\|^2 + \\lambda \\boldsymbol w^T\\boldsymbol w $$\n",
    "\n",
    "$$ L = [(\\boldsymbol X \\boldsymbol w - \\boldsymbol t)^T(\\boldsymbol X \\boldsymbol w - \\boldsymbol t)] + \\lambda \\boldsymbol I \\boldsymbol w^T \\boldsymbol w $$ "
   ]
  },
  {
   "cell_type": "markdown",
   "metadata": {},
   "source": [
    "$$ \\frac{\\delta L}{\\delta\\boldsymbol w} = \\frac{\\delta [(\\boldsymbol X \\boldsymbol w - \\boldsymbol t)^T(\\boldsymbol X \\boldsymbol w - \\boldsymbol t)]}{\\delta (\\boldsymbol X \\boldsymbol w - t)}\\frac{\\delta (\\boldsymbol X \\boldsymbol w - \\boldsymbol t)}{\\delta\\boldsymbol w} + \\lambda \\boldsymbol I \\frac{\\delta}{\\delta \\boldsymbol w}(\\boldsymbol w^T \\boldsymbol w)$$\n",
    "\n",
    "$$ \\frac{\\delta L}{\\delta\\boldsymbol w} = 2(\\boldsymbol X \\boldsymbol w - \\boldsymbol t)^T \\boldsymbol X + 2\\lambda \\boldsymbol I \\boldsymbol w^T $$\n",
    "\n",
    "$$ \\frac{\\delta L}{\\delta\\boldsymbol w} = 2\\boldsymbol w^T \\boldsymbol X^T \\boldsymbol X - 2\\boldsymbol t^T \\boldsymbol X + 2\\lambda \\boldsymbol I \\boldsymbol w^T $$\n",
    "\n",
    "$$ \\frac{\\delta L}{\\delta\\boldsymbol w} = 2\\boldsymbol w^T(\\lambda \\boldsymbol I + \\boldsymbol X^T \\boldsymbol X) - 2\\boldsymbol t^T \\boldsymbol X $$"
   ]
  },
  {
   "cell_type": "markdown",
   "metadata": {},
   "source": [
    "$$ Let ~~~ \\frac{\\delta L}{\\delta \\boldsymbol w} = 0 $$\n",
    "$$ \\boldsymbol w^T (\\lambda \\boldsymbol I + \\boldsymbol X^T \\boldsymbol X) = \\boldsymbol t^T \\boldsymbol X $$\n",
    "$$ \\boldsymbol w^T = \\boldsymbol t^T \\boldsymbol X (\\lambda \\boldsymbol I + \\boldsymbol X^T \\boldsymbol X)^{-1} $$\n",
    "$$ \\boldsymbol w =  [\\boldsymbol t^T \\boldsymbol X (\\lambda \\boldsymbol I + \\boldsymbol X^T \\boldsymbol X)^{-1}]^T $$\n",
    "$$ \\boldsymbol w = [(\\lambda \\boldsymbol I + \\boldsymbol X^T \\boldsymbol X)^{-1}]^T \\boldsymbol X^T \\boldsymbol t $$ \n",
    "$$ \\boldsymbol w = [(\\lambda \\boldsymbol I)^T + (\\boldsymbol X^T \\boldsymbol X)^T]^{-1} \\boldsymbol X^T \\boldsymbol t $$\n",
    "$$ \\therefore \\boldsymbol {\\hat w} = (\\lambda \\boldsymbol I + \\boldsymbol X^T \\boldsymbol X)^{-1} \\boldsymbol X^T \\boldsymbol t $$ "
   ]
  },
  {
   "cell_type": "markdown",
   "metadata": {},
   "source": [
    "### (b)\n",
    "\n",
    "For regular linear regression, the Gauss–Markov theorem states that the solution (see lecture notes) is guaranteed to be a minimum if $\\boldsymbol X^T\\boldsymbol X > 0$, i.e. it is positive definite. What is the condition to guarantee that $\\boldsymbol{\\hat w}$ is a minimum for `ridge regression`? Show your derivation.\n"
   ]
  },
  {
   "cell_type": "markdown",
   "metadata": {},
   "source": [
    "### Answer\n"
   ]
  },
  {
   "cell_type": "markdown",
   "metadata": {},
   "source": []
  },
  {
   "cell_type": "markdown",
   "metadata": {},
   "source": [
    "---\n"
   ]
  },
  {
   "cell_type": "markdown",
   "metadata": {},
   "source": [
    "## Problem 2\n",
    "\n",
    "This problem is about linear regression. We are going to work on dataset of the elastic properties (such as bulk modulus and shear modulus) of inorganic materials.\n"
   ]
  },
  {
   "cell_type": "markdown",
   "metadata": {},
   "source": [
    "### (a)\n",
    "\n",
    "The dataset is given in the `elastic_properties_dataset.csv` file.\n",
    "\n",
    "- Load the dataset into a Pandas dataframe and print first 5 rows of the dataframe.\n",
    "- How many data points/samples/rows are there in the dataset?\n",
    "- How many columns are there in the dataset? What are their names?\n"
   ]
  },
  {
   "cell_type": "markdown",
   "metadata": {},
   "source": [
    "### Answer\n"
   ]
  },
  {
   "cell_type": "code",
   "execution_count": 115,
   "metadata": {},
   "outputs": [],
   "source": [
    "import pandas as pd\n",
    "data_frame = pd.read_csv(\"elastic_properties_dataset.csv\")"
   ]
  },
  {
   "cell_type": "markdown",
   "metadata": {},
   "source": [
    "* Print the first 5 rows of the dataframe"
   ]
  },
  {
   "cell_type": "code",
   "execution_count": 116,
   "metadata": {},
   "outputs": [
    {
     "data": {
      "text/html": [
       "<div>\n",
       "<style scoped>\n",
       "    .dataframe tbody tr th:only-of-type {\n",
       "        vertical-align: middle;\n",
       "    }\n",
       "\n",
       "    .dataframe tbody tr th {\n",
       "        vertical-align: top;\n",
       "    }\n",
       "\n",
       "    .dataframe thead th {\n",
       "        text-align: right;\n",
       "    }\n",
       "</style>\n",
       "<table border=\"1\" class=\"dataframe\">\n",
       "  <thead>\n",
       "    <tr style=\"text-align: right;\">\n",
       "      <th></th>\n",
       "      <th>material_id</th>\n",
       "      <th>formula</th>\n",
       "      <th>volume</th>\n",
       "      <th>structure</th>\n",
       "      <th>G_Voigt</th>\n",
       "      <th>G_Reuss</th>\n",
       "      <th>G_VRH</th>\n",
       "      <th>K_Voigt</th>\n",
       "      <th>K_Reuss</th>\n",
       "      <th>K_VRH</th>\n",
       "      <th>poisson_ratio</th>\n",
       "      <th>elastic_tensor</th>\n",
       "    </tr>\n",
       "  </thead>\n",
       "  <tbody>\n",
       "    <tr>\n",
       "      <th>0</th>\n",
       "      <td>mp-10003</td>\n",
       "      <td>Nb4CoSi</td>\n",
       "      <td>194.419802</td>\n",
       "      <td>{'@module': 'pymatgen.core.structure', '@class...</td>\n",
       "      <td>97.438674</td>\n",
       "      <td>96.844535</td>\n",
       "      <td>97.141604</td>\n",
       "      <td>194.270146</td>\n",
       "      <td>194.267623</td>\n",
       "      <td>194.268884</td>\n",
       "      <td>0.285701</td>\n",
       "      <td>[[ 3.11335146e+02  1.44450926e+02  1.26175581e...</td>\n",
       "    </tr>\n",
       "    <tr>\n",
       "      <th>1</th>\n",
       "      <td>mp-10010</td>\n",
       "      <td>Al(CoSi)2</td>\n",
       "      <td>61.987320</td>\n",
       "      <td>{'@module': 'pymatgen.core.structure', '@class...</td>\n",
       "      <td>98.564362</td>\n",
       "      <td>93.939650</td>\n",
       "      <td>96.252006</td>\n",
       "      <td>177.252050</td>\n",
       "      <td>173.647763</td>\n",
       "      <td>175.449907</td>\n",
       "      <td>0.268105</td>\n",
       "      <td>[[ 3.06933574e+02  8.80263496e+01  1.05695672e...</td>\n",
       "    </tr>\n",
       "    <tr>\n",
       "      <th>2</th>\n",
       "      <td>mp-10015</td>\n",
       "      <td>SiOs</td>\n",
       "      <td>25.952539</td>\n",
       "      <td>{'@module': 'pymatgen.core.structure', '@class...</td>\n",
       "      <td>139.263621</td>\n",
       "      <td>120.962289</td>\n",
       "      <td>130.112955</td>\n",
       "      <td>295.077545</td>\n",
       "      <td>295.077545</td>\n",
       "      <td>295.077545</td>\n",
       "      <td>0.307780</td>\n",
       "      <td>[[569.52912769 157.85174897 157.85140728   0. ...</td>\n",
       "    </tr>\n",
       "    <tr>\n",
       "      <th>3</th>\n",
       "      <td>mp-10021</td>\n",
       "      <td>Ga</td>\n",
       "      <td>76.721433</td>\n",
       "      <td>{'@module': 'pymatgen.core.structure', '@class...</td>\n",
       "      <td>17.997812</td>\n",
       "      <td>12.205989</td>\n",
       "      <td>15.101901</td>\n",
       "      <td>49.235377</td>\n",
       "      <td>49.025963</td>\n",
       "      <td>49.130670</td>\n",
       "      <td>0.360593</td>\n",
       "      <td>[[69.28798775 34.78750152 37.38770853  0.     ...</td>\n",
       "    </tr>\n",
       "    <tr>\n",
       "      <th>4</th>\n",
       "      <td>mp-10025</td>\n",
       "      <td>SiRu2</td>\n",
       "      <td>160.300999</td>\n",
       "      <td>{'@module': 'pymatgen.core.structure', '@class...</td>\n",
       "      <td>103.784823</td>\n",
       "      <td>100.110773</td>\n",
       "      <td>101.947798</td>\n",
       "      <td>258.480904</td>\n",
       "      <td>255.055257</td>\n",
       "      <td>256.768081</td>\n",
       "      <td>0.324682</td>\n",
       "      <td>[[349.37677662 186.67131003 176.47591881   0. ...</td>\n",
       "    </tr>\n",
       "  </tbody>\n",
       "</table>\n",
       "</div>"
      ],
      "text/plain": [
       "  material_id    formula      volume  \\\n",
       "0    mp-10003    Nb4CoSi  194.419802   \n",
       "1    mp-10010  Al(CoSi)2   61.987320   \n",
       "2    mp-10015       SiOs   25.952539   \n",
       "3    mp-10021         Ga   76.721433   \n",
       "4    mp-10025      SiRu2  160.300999   \n",
       "\n",
       "                                           structure     G_Voigt     G_Reuss  \\\n",
       "0  {'@module': 'pymatgen.core.structure', '@class...   97.438674   96.844535   \n",
       "1  {'@module': 'pymatgen.core.structure', '@class...   98.564362   93.939650   \n",
       "2  {'@module': 'pymatgen.core.structure', '@class...  139.263621  120.962289   \n",
       "3  {'@module': 'pymatgen.core.structure', '@class...   17.997812   12.205989   \n",
       "4  {'@module': 'pymatgen.core.structure', '@class...  103.784823  100.110773   \n",
       "\n",
       "        G_VRH     K_Voigt     K_Reuss       K_VRH  poisson_ratio  \\\n",
       "0   97.141604  194.270146  194.267623  194.268884       0.285701   \n",
       "1   96.252006  177.252050  173.647763  175.449907       0.268105   \n",
       "2  130.112955  295.077545  295.077545  295.077545       0.307780   \n",
       "3   15.101901   49.235377   49.025963   49.130670       0.360593   \n",
       "4  101.947798  258.480904  255.055257  256.768081       0.324682   \n",
       "\n",
       "                                      elastic_tensor  \n",
       "0  [[ 3.11335146e+02  1.44450926e+02  1.26175581e...  \n",
       "1  [[ 3.06933574e+02  8.80263496e+01  1.05695672e...  \n",
       "2  [[569.52912769 157.85174897 157.85140728   0. ...  \n",
       "3  [[69.28798775 34.78750152 37.38770853  0.     ...  \n",
       "4  [[349.37677662 186.67131003 176.47591881   0. ...  "
      ]
     },
     "execution_count": 116,
     "metadata": {},
     "output_type": "execute_result"
    }
   ],
   "source": [
    "data_frame.head(5)"
   ]
  },
  {
   "cell_type": "markdown",
   "metadata": {},
   "source": [
    "* Number of data points/samples/rows"
   ]
  },
  {
   "cell_type": "code",
   "execution_count": 117,
   "metadata": {},
   "outputs": [
    {
     "data": {
      "text/plain": [
       "1181"
      ]
     },
     "execution_count": 117,
     "metadata": {},
     "output_type": "execute_result"
    }
   ],
   "source": [
    "len(data_frame)"
   ]
  },
  {
   "cell_type": "markdown",
   "metadata": {},
   "source": [
    "* Number of columns in the dataset"
   ]
  },
  {
   "cell_type": "code",
   "execution_count": 118,
   "metadata": {},
   "outputs": [
    {
     "data": {
      "text/plain": [
       "12"
      ]
     },
     "execution_count": 118,
     "metadata": {},
     "output_type": "execute_result"
    }
   ],
   "source": [
    "len(data_frame.columns)"
   ]
  },
  {
   "cell_type": "markdown",
   "metadata": {},
   "source": [
    "* Columns name"
   ]
  },
  {
   "cell_type": "code",
   "execution_count": 119,
   "metadata": {},
   "outputs": [
    {
     "data": {
      "text/plain": [
       "Index(['material_id', 'formula', 'volume', 'structure', 'G_Voigt', 'G_Reuss',\n",
       "       'G_VRH', 'K_Voigt', 'K_Reuss', 'K_VRH', 'poisson_ratio',\n",
       "       'elastic_tensor'],\n",
       "      dtype='object')"
      ]
     },
     "execution_count": 119,
     "metadata": {},
     "output_type": "execute_result"
    }
   ],
   "source": [
    "data_frame.columns"
   ]
  },
  {
   "cell_type": "markdown",
   "metadata": {},
   "source": [
    "### (b)\n",
    "\n",
    "- For each of `volume`, the bulk modulus (`K_VRH`) and shear modulus (`G_VRH`), do the below:\n",
    "- Compute the mean, standard deviation, minimum, maximum, and median values.\n",
    "- Plot the distribution.\n"
   ]
  },
  {
   "cell_type": "markdown",
   "metadata": {},
   "source": [
    "### Answer\n"
   ]
  },
  {
   "cell_type": "markdown",
   "metadata": {},
   "source": [
    "* Compute the mean, standard deviation, min, max and median values for volume, K_VRH, G_VRH"
   ]
  },
  {
   "cell_type": "code",
   "execution_count": 120,
   "metadata": {},
   "outputs": [
    {
     "name": "stdout",
     "output_type": "stream",
     "text": [
      "volume\n",
      "mean = 207.17709802272532\n",
      "standard deviation = 192.35574666099444\n",
      "min = 15.850527066300002\n",
      "max = 2398.90616431\n",
      "median = 168.92040392\n"
     ]
    }
   ],
   "source": [
    "# volume\n",
    "print('volume')\n",
    "print('mean =', data_frame['volume'].mean())\n",
    "print('standard deviation =', data_frame['volume'].std())\n",
    "print('min =', data_frame['volume'].min())\n",
    "print('max =', data_frame['volume'].max())\n",
    "print('median =', data_frame['volume'].median())"
   ]
  },
  {
   "cell_type": "code",
   "execution_count": 121,
   "metadata": {},
   "outputs": [
    {
     "name": "stdout",
     "output_type": "stream",
     "text": [
      "K_VRH\n",
      "mean = 136.25966079460608\n",
      "standard deviation = 72.88697762536673\n",
      "min = 6.47613489793\n",
      "max = 435.66148729800005\n",
      "median = 130.382765916\n"
     ]
    }
   ],
   "source": [
    "# K_VRH\n",
    "print('K_VRH')\n",
    "print('mean =', data_frame['K_VRH'].mean())\n",
    "print('standard deviation =', data_frame['K_VRH'].std())\n",
    "print('min =', data_frame['K_VRH'].min())\n",
    "print('max =', data_frame['K_VRH'].max())\n",
    "print('median =', data_frame['K_VRH'].median())"
   ]
  },
  {
   "cell_type": "code",
   "execution_count": 122,
   "metadata": {},
   "outputs": [
    {
     "name": "stdout",
     "output_type": "stream",
     "text": [
      "G_VRH\n",
      "mean = 67.54314488379951\n",
      "standard deviation = 44.57940767213469\n",
      "min = 2.72217516753\n",
      "max = 522.92122535\n",
      "median = 59.7351625212\n"
     ]
    }
   ],
   "source": [
    "# G_VRH\n",
    "print('G_VRH')\n",
    "print('mean =', data_frame['G_VRH'].mean())\n",
    "print('standard deviation =', data_frame['G_VRH'].std())\n",
    "print('min =', data_frame['G_VRH'].min())\n",
    "print('max =', data_frame['G_VRH'].max())\n",
    "print('median =', data_frame['G_VRH'].median())"
   ]
  },
  {
   "cell_type": "markdown",
   "metadata": {},
   "source": [
    "* Plot the distribution"
   ]
  },
  {
   "cell_type": "code",
   "execution_count": 123,
   "metadata": {},
   "outputs": [
    {
     "data": {
      "text/plain": [
       "Text(0, 0.5, 'frequency')"
      ]
     },
     "execution_count": 123,
     "metadata": {},
     "output_type": "execute_result"
    },
    {
     "data": {
      "image/png": "[encoded data removed]",
      "text/plain": [
       "<Figure size 640x480 with 1 Axes>"
      ]
     },
     "metadata": {},
     "output_type": "display_data"
    }
   ],
   "source": [
    "import matplotlib.pyplot as plt\n",
    "\n",
    "data_type = 'volume'\n",
    "fig, graph = plt.subplots()\n",
    "graph.hist(data_frame[data_type], bins = 100)\n",
    "graph.set_xlabel(data_type)\n",
    "graph.set_ylabel('frequency')\n"
   ]
  },
  {
   "cell_type": "code",
   "execution_count": 124,
   "metadata": {},
   "outputs": [
    {
     "data": {
      "text/plain": [
       "Text(0, 0.5, 'frequency')"
      ]
     },
     "execution_count": 124,
     "metadata": {},
     "output_type": "execute_result"
    },
    {
     "data": {
      "image/png": "[encoded data removed]",
      "text/plain": [
       "<Figure size 640x480 with 1 Axes>"
      ]
     },
     "metadata": {},
     "output_type": "display_data"
    }
   ],
   "source": [
    "data_type = 'K_VRH'\n",
    "fig, graph = plt.subplots()\n",
    "graph.hist(data_frame[data_type], bins = 100)\n",
    "graph.set_xlabel(data_type)\n",
    "graph.set_ylabel('frequency')"
   ]
  },
  {
   "cell_type": "code",
   "execution_count": 125,
   "metadata": {},
   "outputs": [
    {
     "data": {
      "text/plain": [
       "Text(0, 0.5, 'frequency')"
      ]
     },
     "execution_count": 125,
     "metadata": {},
     "output_type": "execute_result"
    },
    {
     "data": {
      "image/png": "[encoded data removed]",
      "text/plain": [
       "<Figure size 640x480 with 1 Axes>"
      ]
     },
     "metadata": {},
     "output_type": "display_data"
    }
   ],
   "source": [
    "data_type = 'G_VRH'\n",
    "fig, graph = plt.subplots()\n",
    "graph.hist(data_frame[data_type], bins = 100)\n",
    "graph.set_xlabel(data_type)\n",
    "graph.set_ylabel('frequency')"
   ]
  },
  {
   "cell_type": "markdown",
   "metadata": {},
   "source": [
    "### (c)\n",
    "\n",
    "We are interested in fitting a linear regression model to predict the shear modulus `G_VRH` from the `volume` and the bulk modulus `K_VRH`.\n",
    "\n",
    "- Create a 2D array of features `X` with the first column being the `volume` and the second column being the `K_VRH`.\n",
    "- Create a 1D array of target `y` with the `G_VRH` column.\n",
    "- Split the dataset into training and test sets, using 80% of the data for training and 20% for testing. After the split, you should have 4 arrays: `X_train`, `X_test`, `y_train`, `y_test`. You can use the [train_test_split](https://scikit-learn.org/stable/modules/generated/sklearn.model_selection.train_test_split.html) function from scikit-learn.\n"
   ]
  },
  {
   "cell_type": "markdown",
   "metadata": {},
   "source": [
    "### Answer\n"
   ]
  },
  {
   "cell_type": "code",
   "execution_count": 126,
   "metadata": {},
   "outputs": [],
   "source": [
    "import numpy"
   ]
  },
  {
   "cell_type": "markdown",
   "metadata": {},
   "source": [
    "* Create a 2D array with featues X containing *volume, K_VRH*"
   ]
  },
  {
   "cell_type": "code",
   "execution_count": 127,
   "metadata": {},
   "outputs": [
    {
     "data": {
      "text/plain": [
       "(1181, 2)"
      ]
     },
     "execution_count": 127,
     "metadata": {},
     "output_type": "execute_result"
    }
   ],
   "source": [
    "X = data_frame[['volume','K_VRH']].to_numpy()\n",
    "X.shape"
   ]
  },
  {
   "cell_type": "markdown",
   "metadata": {},
   "source": [
    "* Create a 1D target y with *G_VRH*"
   ]
  },
  {
   "cell_type": "code",
   "execution_count": 128,
   "metadata": {},
   "outputs": [
    {
     "data": {
      "text/plain": [
       "(1181,)"
      ]
     },
     "execution_count": 128,
     "metadata": {},
     "output_type": "execute_result"
    }
   ],
   "source": [
    "y = data_frame['G_VRH'].to_numpy()\n",
    "y.shape"
   ]
  },
  {
   "cell_type": "markdown",
   "metadata": {},
   "source": [
    "* Split data into test (20%) and training (80%) sets"
   ]
  },
  {
   "cell_type": "code",
   "execution_count": 129,
   "metadata": {},
   "outputs": [
    {
     "name": "stdout",
     "output_type": "stream",
     "text": [
      "Training set: features: (944, 2), target: (944,)\n",
      "Test set:     features: (237, 2), target: (237,)\n"
     ]
    }
   ],
   "source": [
    "from sklearn.model_selection import train_test_split\n",
    "X_train, X_test, y_train, y_test = train_test_split(X,y, test_size = 0.2,  random_state=0)\n",
    "print(\"Training set: features: {}, target: {}\".format(X_train.shape,y_train.shape))\n",
    "print(\"Test set:     features: {}, target: {}\".format(X_test.shape,y_test.shape))"
   ]
  },
  {
   "cell_type": "markdown",
   "metadata": {},
   "source": [
    "---\n"
   ]
  },
  {
   "cell_type": "markdown",
   "metadata": {},
   "source": [
    "## Problem 3\n",
    "\n",
    "In this problem, we fit linear regression models for the elastic properties dataset.\n"
   ]
  },
  {
   "cell_type": "markdown",
   "metadata": {},
   "source": [
    "### (a)\n",
    "\n",
    "- Fit a linear regression model using [LinearRegression](https://scikit-learn.org/stable/modules/generated/sklearn.linear_model.LinearRegression.html) on our training data `X_train` and `y_train`.\n",
    "- Evaluate the mean absolute error (MAE) on the test data `X_test` and `y_test`. What is the MAE?\n"
   ]
  },
  {
   "cell_type": "markdown",
   "metadata": {},
   "source": [
    "### Answer\n"
   ]
  },
  {
   "cell_type": "code",
   "execution_count": 130,
   "metadata": {},
   "outputs": [],
   "source": [
    "from sklearn.linear_model import LinearRegression\n",
    "from sklearn.metrics import mean_absolute_error"
   ]
  },
  {
   "cell_type": "code",
   "execution_count": 131,
   "metadata": {},
   "outputs": [
    {
     "data": {
      "text/html": [
       "<style>#sk-container-id-5 {color: black;}#sk-container-id-5 pre{padding: 0;}#sk-container-id-5 div.sk-toggleable {background-color: white;}#sk-container-id-5 label.sk-toggleable__label {cursor: pointer;display: block;width: 100%;margin-bottom: 0;padding: 0.3em;box-sizing: border-box;text-align: center;}#sk-container-id-5 label.sk-toggleable__label-arrow:before {content: \"▸\";float: left;margin-right: 0.25em;color: #696969;}#sk-container-id-5 label.sk-toggleable__label-arrow:hover:before {color: black;}#sk-container-id-5 div.sk-estimator:hover label.sk-toggleable__label-arrow:before {color: black;}#sk-container-id-5 div.sk-toggleable__content {max-height: 0;max-width: 0;overflow: hidden;text-align: left;background-color: #f0f8ff;}#sk-container-id-5 div.sk-toggleable__content pre {margin: 0.2em;color: black;border-radius: 0.25em;background-color: #f0f8ff;}#sk-container-id-5 input.sk-toggleable__control:checked~div.sk-toggleable__content {max-height: 200px;max-width: 100%;overflow: auto;}#sk-container-id-5 input.sk-toggleable__control:checked~label.sk-toggleable__label-arrow:before {content: \"▾\";}#sk-container-id-5 div.sk-estimator input.sk-toggleable__control:checked~label.sk-toggleable__label {background-color: #d4ebff;}#sk-container-id-5 div.sk-label input.sk-toggleable__control:checked~label.sk-toggleable__label {background-color: #d4ebff;}#sk-container-id-5 input.sk-hidden--visually {border: 0;clip: rect(1px 1px 1px 1px);clip: rect(1px, 1px, 1px, 1px);height: 1px;margin: -1px;overflow: hidden;padding: 0;position: absolute;width: 1px;}#sk-container-id-5 div.sk-estimator {font-family: monospace;background-color: #f0f8ff;border: 1px dotted black;border-radius: 0.25em;box-sizing: border-box;margin-bottom: 0.5em;}#sk-container-id-5 div.sk-estimator:hover {background-color: #d4ebff;}#sk-container-id-5 div.sk-parallel-item::after {content: \"\";width: 100%;border-bottom: 1px solid gray;flex-grow: 1;}#sk-container-id-5 div.sk-label:hover label.sk-toggleable__label {background-color: #d4ebff;}#sk-container-id-5 div.sk-serial::before {content: \"\";position: absolute;border-left: 1px solid gray;box-sizing: border-box;top: 0;bottom: 0;left: 50%;z-index: 0;}#sk-container-id-5 div.sk-serial {display: flex;flex-direction: column;align-items: center;background-color: white;padding-right: 0.2em;padding-left: 0.2em;position: relative;}#sk-container-id-5 div.sk-item {position: relative;z-index: 1;}#sk-container-id-5 div.sk-parallel {display: flex;align-items: stretch;justify-content: center;background-color: white;position: relative;}#sk-container-id-5 div.sk-item::before, #sk-container-id-5 div.sk-parallel-item::before {content: \"\";position: absolute;border-left: 1px solid gray;box-sizing: border-box;top: 0;bottom: 0;left: 50%;z-index: -1;}#sk-container-id-5 div.sk-parallel-item {display: flex;flex-direction: column;z-index: 1;position: relative;background-color: white;}#sk-container-id-5 div.sk-parallel-item:first-child::after {align-self: flex-end;width: 50%;}#sk-container-id-5 div.sk-parallel-item:last-child::after {align-self: flex-start;width: 50%;}#sk-container-id-5 div.sk-parallel-item:only-child::after {width: 0;}#sk-container-id-5 div.sk-dashed-wrapped {border: 1px dashed gray;margin: 0 0.4em 0.5em 0.4em;box-sizing: border-box;padding-bottom: 0.4em;background-color: white;}#sk-container-id-5 div.sk-label label {font-family: monospace;font-weight: bold;display: inline-block;line-height: 1.2em;}#sk-container-id-5 div.sk-label-container {text-align: center;}#sk-container-id-5 div.sk-container {/* jupyter's `normalize.less` sets `[hidden] { display: none; }` but bootstrap.min.css set `[hidden] { display: none !important; }` so we also need the `!important` here to be able to override the default hidden behavior on the sphinx rendered scikit-learn.org. See: https://github.com/scikit-learn/scikit-learn/issues/21755 */display: inline-block !important;position: relative;}#sk-container-id-5 div.sk-text-repr-fallback {display: none;}</style><div id=\"sk-container-id-5\" class=\"sk-top-container\"><div class=\"sk-text-repr-fallback\"><pre>LinearRegression()</pre><b>In a Jupyter environment, please rerun this cell to show the HTML representation or trust the notebook. <br />On GitHub, the HTML representation is unable to render, please try loading this page with nbviewer.org.</b></div><div class=\"sk-container\" hidden><div class=\"sk-item\"><div class=\"sk-estimator sk-toggleable\"><input class=\"sk-toggleable__control sk-hidden--visually\" id=\"sk-estimator-id-5\" type=\"checkbox\" checked><label for=\"sk-estimator-id-5\" class=\"sk-toggleable__label sk-toggleable__label-arrow\">LinearRegression</label><div class=\"sk-toggleable__content\"><pre>LinearRegression()</pre></div></div></div></div></div>"
      ],
      "text/plain": [
       "LinearRegression()"
      ]
     },
     "execution_count": 131,
     "metadata": {},
     "output_type": "execute_result"
    }
   ],
   "source": [
    "model = LinearRegression()\n",
    "model.fit(X_train, y_train)"
   ]
  },
  {
   "cell_type": "markdown",
   "metadata": {},
   "source": [
    "Mean absolute error is defined as:\n",
    "$$ MAE = \\sum_{i=1}^{n} \\frac{| y_i - t_i |}{n} , $$\n",
    "where $ y_i $ is the prediction of the current model and $ t_i $ is the target."
   ]
  },
  {
   "cell_type": "code",
   "execution_count": 132,
   "metadata": {},
   "outputs": [
    {
     "name": "stdout",
     "output_type": "stream",
     "text": [
      "MAE on test set:  17.873888963839352\n"
     ]
    }
   ],
   "source": [
    "y_pred = model.predict(X_test)\n",
    "mae = mean_absolute_error(y_test,y_pred)\n",
    "print(\"MAE on test set: \", mae)"
   ]
  },
  {
   "cell_type": "markdown",
   "metadata": {
    "vscode": {
     "languageId": "plaintext"
    }
   },
   "source": [
    "### (b)\n",
    "\n",
    "In this problem, we implement the linear regression model `MyLinearRegression` from scratch, and below is the partial code. \n",
    "- Finish the `fit` function. \n",
    "- Use it to fit a linear regression model to `X_train` and `y_train`. And then evaluate the MAE on the test data `X_test` and `y_test`. Are you getting the same MAE as in (c)?\n",
    "\n",
    "Hints:\n",
    "- code the normal equation in `fit()` and assign it to `self.w`. You might want to use the numpy functions to perform matrix operations, e.g. `np.matmul()`.\n",
    "- you might want to use the `add_ones()` helper function to preprocess the input `X` to add a column of ones, which is associated with the intercept $w_0$.\n"
   ]
  },
  {
   "cell_type": "code",
   "execution_count": 136,
   "metadata": {},
   "outputs": [],
   "source": [
    "import numpy as np\n",
    "\n",
    "\n",
    "class MyLinearRegression:\n",
    "    def __init__(self):\n",
    "        self.w = None\n",
    "\n",
    "    def fit(self, X, y):\n",
    "        \"\"\"\n",
    "        Train a linear regression model.\n",
    "\n",
    "        Args:\n",
    "            X: a 2D array of the features. Each row represent a sample (data point), and\n",
    "                each column is a feature.\n",
    "            y: a 1D column vector. Each value is the target corresponding to the data\n",
    "                point in the same row.\n",
    "        \"\"\"\n",
    "        # apply the linear regression solution to obtain parameters w\n",
    "        # w = (((X^T)X)^-1)(X^T)*y\n",
    "        X_padded = self.add_ones(X)\n",
    "        X_t = X_padded.transpose()\n",
    "        temp = np.matmul(X_t,X_padded)\n",
    "        temp = np.linalg.inv(temp)\n",
    "        temp = np.matmul(temp , X_t)\n",
    "        \n",
    "        self.w = np.matmul(temp, y)\n",
    "\n",
    "\n",
    "    def predict(self, X):\n",
    "        \"\"\"\n",
    "        Make predictions for new data points.\n",
    "\n",
    "        Args:\n",
    "            Z: a 2D array of the features of the new data points, for which predictions\n",
    "                are performed. Same as `X`, each row represent a data point.\n",
    "        \"\"\"\n",
    "        if self.w is None:\n",
    "            raise ValueError(\"Please call the `fit` method to train the model first.\")\n",
    "\n",
    "        X = self.add_ones(X)\n",
    "        prediction = np.matmul(X, self.w)\n",
    "\n",
    "        return prediction\n",
    "\n",
    "    @staticmethod\n",
    "    def add_ones(X):\n",
    "        \"\"\"\n",
    "        A helper function to prepend a column of ones.\n",
    "\n",
    "        Args:\n",
    "            X: a 2D array to which the ones are prepended.\n",
    "\n",
    "        Example:\n",
    "            >>> MyLinearRegression.add_ones(\n",
    "            ...   [[0.1, 0.2],\n",
    "            ...   [[0.3, 0.4]]\n",
    "            ... )\n",
    "            [[1.0, 0.1, 0.2],\n",
    "             [1.0, 0.3, 0.4]]\n",
    "        \"\"\"\n",
    "        X = np.asarray(X)\n",
    "\n",
    "        if X.ndim != 2:\n",
    "            raise ValueError(\n",
    "                f\"Expect a 2D array. But the input data has a dimension of {X.ndim}\"\n",
    "            )\n",
    "\n",
    "        ones = np.ones(len(X)).reshape(len(X), 1)\n",
    "        new_X = np.hstack((ones, X))\n",
    "\n",
    "        return new_X"
   ]
  },
  {
   "cell_type": "markdown",
   "metadata": {},
   "source": [
    "### Answer\n"
   ]
  },
  {
   "cell_type": "code",
   "execution_count": null,
   "metadata": {},
   "outputs": [
    {
     "name": "stdout",
     "output_type": "stream",
     "text": [
      "My MAE:  17.873888963839352\n"
     ]
    }
   ],
   "source": [
    "my_model = MyLinearRegression()\n",
    "my_model.fit(X_train , y_train)\n",
    "y_pred = my_model.predict(X_test)\n",
    "mae = mean_absolute_error(y_test, y_pred)\n",
    "print(\"My MAE: \", mae)"
   ]
  },
  {
   "cell_type": "markdown",
   "metadata": {},
   "source": [
    "### (c)\n",
    "\n",
    "- Compare the results obtained in (a) and (b), are you getting the same MAE? If not, any reason?\n",
    "- Do you think the linear regression model is a good model for this problem? Why or why not? Hint: compare the MAE with the data statistics in Problem 2.\n"
   ]
  },
  {
   "cell_type": "markdown",
   "metadata": {},
   "source": [
    "### Answer\n"
   ]
  },
  {
   "cell_type": "markdown",
   "metadata": {},
   "source": [
    "MAE in (a): $ 17.873888963839352 $\n",
    "\n",
    "MAE in (b): $ 17.873888963839352 $\n",
    "\n",
    "They are equal"
   ]
  },
  {
   "cell_type": "markdown",
   "metadata": {},
   "source": [
    "---\n"
   ]
  },
  {
   "cell_type": "markdown",
   "metadata": {},
   "source": [
    "## Problem 4\n"
   ]
  },
  {
   "cell_type": "markdown",
   "metadata": {},
   "source": [
    "Below is some dataset for a binary classification problem with two features $x_1$ and $x_2$. Answer the following questions based on it.\n"
   ]
  },
  {
   "cell_type": "code",
   "execution_count": 145,
   "metadata": {},
   "outputs": [
    {
     "data": {
      "image/png": "[encoded data removed]",
      "text/plain": [
       "<Figure size 640x480 with 1 Axes>"
      ]
     },
     "metadata": {},
     "output_type": "display_data"
    }
   ],
   "source": [
    "import numpy as np\n",
    "import matplotlib.pyplot as plt\n",
    "\n",
    "\n",
    "def generate_data(seed: int = 35):\n",
    "    \"\"\"Generate a toy dataset for classification.\n",
    "\n",
    "    Returns:\n",
    "        X: 2D array of shape (n_samples, 2). Each row is a data point with two features.\n",
    "        y: 1D array of shape (n_samples,). Each value is the class label (0 or 1) of the\n",
    "            corresponding data point in X.\n",
    "    \"\"\"\n",
    "    np.random.seed(seed)\n",
    "    X1_1 = np.random.uniform(1.0, 2.0, 100)\n",
    "    X1_2 = np.random.uniform(3.0, 4.0, 100)\n",
    "    X1 = np.concatenate([X1_1, X1_2])\n",
    "    X2 = np.random.uniform(0.0, 20.0, 200)\n",
    "    X = np.stack([X1, X2], axis=-1)\n",
    "    y = np.asarray([0] * 100 + [1] * 100)\n",
    "\n",
    "    return X, y\n",
    "\n",
    "\n",
    "def plot_data(X, y, w0=None, w1=None, w2=None):\n",
    "    \"\"\"Generate scatter plot for data points, and optionally plot the decision boundary.\n",
    "\n",
    "    Args:\n",
    "        X: 2D array of shape (n_samples, 2). Each row is a data point with two features.\n",
    "        y: 1D array of shape (n_samples,). Each value is the class label (0 or 1) of the\n",
    "            corresponding data point in X.\n",
    "        w0, w1, w2: parameters of the decision boundary. If the values are provided, the\n",
    "            decision boundary will be plotted. If `None`, the decision boundary will not\n",
    "            be plotted.\n",
    "    \"\"\"\n",
    "    fig, ax = plt.subplots()\n",
    "\n",
    "    X_class_0 = np.asarray([i for i, j in zip(X, y) if j == 0])\n",
    "    X_class_1 = np.asarray([i for i, j in zip(X, y) if j == 1])\n",
    "\n",
    "    ax.scatter(X_class_0[:, 0], X_class_0[:, 1], color=\"C0\", label=\"class 0\")\n",
    "    ax.scatter(X_class_1[:, 0], X_class_1[:, 1], color=\"C1\", label=\"class 1\")\n",
    "    ax.set_xlabel(r\"$x_1$\")\n",
    "    ax.set_ylabel(r\"$x_2$\")\n",
    "\n",
    "    if w0 is not None and w1 is not None and w2 is not None:\n",
    "        X1 = np.asarray([2.0, 3.0])\n",
    "        X2 = (-w1 * X1 - w0) / w2\n",
    "        ax.plot(X1, X2, color=\"C2\")\n",
    "        ax.set_ylim(-1, 21)\n",
    "\n",
    "    ax.legend(bbox_to_anchor=(1, 1))\n",
    "\n",
    "\n",
    "X, y = generate_data()\n",
    "\n",
    "plot_data(X, y)"
   ]
  },
  {
   "cell_type": "markdown",
   "metadata": {},
   "source": [
    "### (a)\n",
    "\n",
    "Upon observation, without any data fitting, what would you expect the decision boundary of the binary classification to be?\n",
    "Hint: for a binary classification with two features $x_1$ and $x_2$, the general decision boundary is given by the equation: $$w_2x_2 + w_1x_1 + w_0 = 0, $$ where $w_2, w_1$ and $w_0$ are some constants.\n"
   ]
  },
  {
   "cell_type": "markdown",
   "metadata": {},
   "source": [
    "### Answer"
   ]
  },
  {
   "cell_type": "markdown",
   "metadata": {},
   "source": [
    "According to the plot, we can observe that class 0 and 1 are entirely separated into two zones. The zone with $ x_1 < 2.5$ belongs to class 0 and $ x_1 > 2.5 $ belongs to class 1.\n",
    "\n",
    "We can create a boundary $ x_1 = 2.5 $\n",
    "\n",
    "As a result, the values of $w_0, w_1, w_2$ are \n",
    "\n",
    "$w_0 = -2.5$ ; $w_1 = 1$ ; $w_2 = 0 $"
   ]
  },
  {
   "cell_type": "code",
   "execution_count": 149,
   "metadata": {},
   "outputs": [
    {
     "data": {
      "image/png": "[encoded data removed]",
      "text/plain": [
       "<Figure size 640x480 with 1 Axes>"
      ]
     },
     "metadata": {},
     "output_type": "display_data"
    }
   ],
   "source": [
    "plot_data(X, y,-2.5,1,0.01)"
   ]
  },
  {
   "cell_type": "markdown",
   "metadata": {},
   "source": [
    "### (b)\n",
    "\n",
    "Fit a [LogisticRegression](https://scikit-learn.org/stable/modules/generated/sklearn.linear_model.LogisticRegression.html) model for the data using scikit-learn.\n",
    "\n",
    "- What is the decision boundary obtained from this model? Hint: once you have the LogisticRegression model fitted, you can get access to the values $w_1$ and $w_2$ from the `coef_` attribute, and $w_0$ from the `intercept_` attribute. Read the documentation of scikit-learn LogisticRegression to learn more.\n",
    "- Plot a figure to show the data points and the decision boundary. Hint: once you have the values of $w_0, w_1$ and $w_2$, you can call the `plot_data` function given above to plot the data and the decision boundary.\n"
   ]
  },
  {
   "cell_type": "markdown",
   "metadata": {},
   "source": [
    "### Answer\n"
   ]
  },
  {
   "cell_type": "markdown",
   "metadata": {},
   "source": [
    "### (c)\n",
    "\n",
    "Does the solution obtained in part (b) agree with your expected solution in part (a)? If yes, justify it. If no, why?\n"
   ]
  },
  {
   "cell_type": "markdown",
   "metadata": {},
   "source": [
    "### Answer"
   ]
  }
 ],
 "metadata": {
  "kernelspec": {
   "display_name": "jupyter_book",
   "language": "python",
   "name": "python3"
  },
  "language_info": {
   "codemirror_mode": {
    "name": "ipython",
    "version": 3
   },
   "file_extension": ".py",
   "mimetype": "text/x-python",
   "name": "python",
   "nbconvert_exporter": "python",
   "pygments_lexer": "ipython3",
   "version": "3.11.5"
  },
  "orig_nbformat": 4
 },
 "nbformat": 4,
 "nbformat_minor": 2
}
